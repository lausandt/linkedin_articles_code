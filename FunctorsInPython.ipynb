{
 "cells": [
  {
   "cell_type": "markdown",
   "id": "a8a48bc3-bc63-4e70-bbbd-a27e14e7aaa8",
   "metadata": {},
   "source": [
    "## Functors in Python\n",
    "---\n",
    "If you are like me and love to program both in Python and in Haskell, then you might stumble on some attempts to implement a Functor in Python. Take as an example the Functor class below, adopted slightly from [Arjan Codes](https://www.arjancodes.com/blog/python-functors-and-monads/), I added some code to keep it simple and make the example work, so you can follow along.  \n"
   ]
  },
  {
   "cell_type": "code",
   "execution_count": 1,
   "id": "67be0d05-520a-406e-b6bc-df7a5aa5076c",
   "metadata": {},
   "outputs": [
    {
     "data": {
      "text/plain": [
       "4"
      ]
     },
     "execution_count": 1,
     "metadata": {},
     "output_type": "execute_result"
    }
   ],
   "source": [
    "from typing import Generic, TypeVar, Callable\n",
    "from operator import pow, add \n",
    "from functools import partial\n",
    "\n",
    "T = TypeVar('T')\n",
    "U = TypeVar('U')\n",
    "\n",
    "class Functor(Generic[T]):\n",
    "    def __init__(self, value: T):\n",
    "        self.value = value\n",
    "\n",
    "    def map(self, f: Callable[[T], U]) -> \"Functor[U]\":\n",
    "        return Functor(f(self.value))\n",
    "\n",
    "Functor(1).map(partial(add, 1)).map(partial(pow,2)).value \n"
   ]
  },
  {
   "cell_type": "markdown",
   "id": "4b921113-9b1a-4df4-a00e-8c5a866f454d",
   "metadata": {},
   "source": [
    "I have some problems with this example:\n",
    "\n",
    "1. The first problem I have is with the stated goal of the Functor: \"Functors allow for clean, concise pipelines.\" That is not the goal of a functor. Functors allow for mappings between categories; that is also precisely the goal of the functor. Of course that sounds a bit odd, so understand functors to allow mapping on wrapped types.\n",
    "2. You cannot really map on an integer as it is a primitive type, and mapping is done on wrapped types.\n",
    "3. A functor should not be implemented as a class but as an interface.\n",
    "4. What they say is a monad simply is not.\n",
    "\n",
    "Before I explain to you why these are problems, I first want to say that this article in no manner whatsoever suggests the [Arjan Codes](https://www.arjancodes.com/blog/python-functors-and-monads/) is bad; it is probably excellent and worth your attention. I have no opinion on the content of this site other than on this article. \n",
    "\n",
    "To understand what a functor does, we should start with the `map` function, which represents a mapping in Python\n",
    " "
   ]
  },
  {
   "cell_type": "code",
   "execution_count": 2,
   "id": "50bb6c00-2a22-4f7f-aea5-0b7dff4160b2",
   "metadata": {},
   "outputs": [
    {
     "data": {
      "text/plain": [
       "[2, 3, 4, 5, 6]"
      ]
     },
     "execution_count": 2,
     "metadata": {},
     "output_type": "execute_result"
    }
   ],
   "source": [
    "def succ(n: int) -> int: \n",
    "    return n + 1\n",
    "\n",
    "list(map(succ, [1,2,3,4,5]))"
   ]
  },
  {
   "cell_type": "markdown",
   "id": "1198415e-8729-49c9-9dcd-95e71405057b",
   "metadata": {},
   "source": [
    "What does the above map function do? It maps the successor function from the domain {1,2,3,4,5} to\n",
    "the codomain {2,3,4,5,6}. The application of such a function to all elements in a domain to elements in a codomain is called a mapping. Pictorial it is this familiar drawing:\n",
    "\n",
    "![domain / codomain](https://upload.wikimedia.org/wikipedia/commons/thumb/6/64/Codomain2.SVG/500px-Codomain2.SVG.png)\n",
    "\n",
    "Which we probably all know from middle school math classes. Hence that we cannot map succ to 1, we do not map from an element but from a collection of elements, usually in math a set, in Python an iterable. The map function allows you to operate on elements of an underlying data structure without changing that data structure. This is exactly how a functor should be understood, as allowing a map function to operate without changing the underlying structure."
   ]
  },
  {
   "cell_type": "code",
   "execution_count": 1,
   "id": "963c4a1a-801e-46a9-8bef-e6127593d55c",
   "metadata": {},
   "outputs": [
    {
     "ename": "NameError",
     "evalue": "name 'succ' is not defined",
     "output_type": "error",
     "traceback": [
      "\u001b[0;31m---------------------------------------------------------------------------\u001b[0m",
      "\u001b[0;31mNameError\u001b[0m                                 Traceback (most recent call last)",
      "\u001b[0;32m/tmp/ipykernel_25383/4225730118.py\u001b[0m in \u001b[0;36m<module>\u001b[0;34m\u001b[0m\n\u001b[0;32m----> 1\u001b[0;31m \u001b[0mtuple\u001b[0m\u001b[0;34m(\u001b[0m\u001b[0mmap\u001b[0m\u001b[0;34m(\u001b[0m\u001b[0msucc\u001b[0m\u001b[0;34m,\u001b[0m \u001b[0;34m(\u001b[0m\u001b[0;36m1\u001b[0m\u001b[0;34m,\u001b[0m\u001b[0;34m)\u001b[0m\u001b[0;34m)\u001b[0m\u001b[0;34m)\u001b[0m\u001b[0;34m\u001b[0m\u001b[0;34m\u001b[0m\u001b[0m\n\u001b[0m",
      "\u001b[0;31mNameError\u001b[0m: name 'succ' is not defined"
     ]
    }
   ],
   "source": [
    "tuple(map(succ, (1,)))"
   ]
  },
  {
   "cell_type": "markdown",
   "id": "920b9199-ba48-47a6-ac55-ba5762062d95",
   "metadata": {},
   "source": [
    "\n",
    "The map function in Python is limited to iterables. What is an iterable in Python? Anything that has a next function and a StopIteration error, which is Python's manner to answer the question hasNext? \n",
    "\n",
    "If we consider an iterable to wrap its elements in a list, set, or whatever iterable you can imagine, then we could ask ourselves the question, How can we use map on a with a structure-wrapped element where that structure is not an iterable?\n",
    "\n",
    "Consider the following example of map not working:  "
   ]
  },
  {
   "cell_type": "code",
   "execution_count": 3,
   "id": "fc156dc1-08fe-43f7-a482-48d9c6561d1e",
   "metadata": {},
   "outputs": [
    {
     "ename": "TypeError",
     "evalue": "can only concatenate str (not \"int\") to str",
     "output_type": "error",
     "traceback": [
      "\u001b[0;31m---------------------------------------------------------------------------\u001b[0m",
      "\u001b[0;31mTypeError\u001b[0m                                 Traceback (most recent call last)",
      "\u001b[0;32m/tmp/ipykernel_15923/1178047909.py\u001b[0m in \u001b[0;36m<module>\u001b[0;34m\u001b[0m\n\u001b[1;32m      1\u001b[0m \u001b[0md\u001b[0m \u001b[0;34m=\u001b[0m \u001b[0mdict\u001b[0m\u001b[0;34m(\u001b[0m\u001b[0mArjan\u001b[0m\u001b[0;34m=\u001b[0m\u001b[0;36m1\u001b[0m\u001b[0;34m,\u001b[0m\u001b[0mLaurens\u001b[0m\u001b[0;34m=\u001b[0m\u001b[0;36m2\u001b[0m\u001b[0;34m)\u001b[0m\u001b[0;34m\u001b[0m\u001b[0;34m\u001b[0m\u001b[0m\n\u001b[0;32m----> 2\u001b[0;31m \u001b[0mdict\u001b[0m\u001b[0;34m(\u001b[0m\u001b[0mmap\u001b[0m\u001b[0;34m(\u001b[0m\u001b[0msucc\u001b[0m\u001b[0;34m,\u001b[0m\u001b[0md\u001b[0m\u001b[0;34m)\u001b[0m\u001b[0;34m)\u001b[0m\u001b[0;34m\u001b[0m\u001b[0;34m\u001b[0m\u001b[0m\n\u001b[0m",
      "\u001b[0;32m/tmp/ipykernel_15923/924292918.py\u001b[0m in \u001b[0;36msucc\u001b[0;34m(n)\u001b[0m\n\u001b[1;32m      1\u001b[0m \u001b[0;32mdef\u001b[0m \u001b[0msucc\u001b[0m\u001b[0;34m(\u001b[0m\u001b[0mn\u001b[0m\u001b[0;34m:\u001b[0m \u001b[0mint\u001b[0m\u001b[0;34m)\u001b[0m \u001b[0;34m->\u001b[0m \u001b[0mint\u001b[0m\u001b[0;34m:\u001b[0m\u001b[0;34m\u001b[0m\u001b[0;34m\u001b[0m\u001b[0m\n\u001b[0;32m----> 2\u001b[0;31m     \u001b[0;32mreturn\u001b[0m \u001b[0mn\u001b[0m \u001b[0;34m+\u001b[0m \u001b[0;36m1\u001b[0m\u001b[0;34m\u001b[0m\u001b[0;34m\u001b[0m\u001b[0m\n\u001b[0m\u001b[1;32m      3\u001b[0m \u001b[0;34m\u001b[0m\u001b[0m\n\u001b[1;32m      4\u001b[0m \u001b[0mlist\u001b[0m\u001b[0;34m(\u001b[0m\u001b[0mmap\u001b[0m\u001b[0;34m(\u001b[0m\u001b[0msucc\u001b[0m\u001b[0;34m,\u001b[0m \u001b[0;34m[\u001b[0m\u001b[0;36m1\u001b[0m\u001b[0;34m,\u001b[0m\u001b[0;36m2\u001b[0m\u001b[0;34m,\u001b[0m\u001b[0;36m3\u001b[0m\u001b[0;34m,\u001b[0m\u001b[0;36m4\u001b[0m\u001b[0;34m,\u001b[0m\u001b[0;36m5\u001b[0m\u001b[0;34m]\u001b[0m\u001b[0;34m)\u001b[0m\u001b[0;34m)\u001b[0m\u001b[0;34m\u001b[0m\u001b[0;34m\u001b[0m\u001b[0m\n",
      "\u001b[0;31mTypeError\u001b[0m: can only concatenate str (not \"int\") to str"
     ]
    }
   ],
   "source": [
    "d = dict(Arjan=1,Laurens=2)\n",
    "dict(map(succ,d))"
   ]
  },
  {
   "cell_type": "code",
   "execution_count": 4,
   "id": "46363cf8-53b5-4e4a-89ac-4bdaa826cd78",
   "metadata": {},
   "outputs": [
    {
     "data": {
      "text/plain": [
       "{'Arjan': 2, 'Laurens': 3}"
      ]
     },
     "execution_count": 4,
     "metadata": {},
     "output_type": "execute_result"
    }
   ],
   "source": [
    "{k:succ(v) for k,v in d.items()}"
   ]
  },
  {
   "cell_type": "markdown",
   "id": "a43b3d44-7b84-4a45-9254-c8a4a46bafcc",
   "metadata": {},
   "source": [
    "\n",
    "As you can see, being able to add to the value in the dictionary requires in Python to unpack the items in the dictionary and then apply the function to the value. We cannot map directly on a dict. To be able to do so requires a more generic map function, and that is what a functor is. A functor, for all intents and purposes, is a generalisation of map, it generalises on the structure that holds the element. \n",
    "\n",
    "The most common example to illustrate what a functor can do is with a Maybe type [Arjan Codes](https://www.arjancodes.com/blog/python-functors-and-monads/), also uses the maybe as an example, but it is more instructive to use a bit of Haskell, which knows the Maybe type.\n",
    "\n",
    "```haskell\n",
    "Maybe a = Nothing | Just a\n",
    "```\n",
    "This you should interpret pretty must as you read it. We have Maybe value which wraps an unspecified type, a. That Maybe value consists of one of two things:\n",
    "\n",
    "1. Nothing\n",
    "2. Just a value of that type\n",
    "\n",
    "For instance we can have Maybe Int. \n",
    "\n",
    "```haskell\n",
    "Nothing\n",
    "Just 42\n",
    "```\n",
    "\n",
    "Now coming back to our functor, how can we generalise our map function to also be able to use our map function on it? Remember, we want to apply a function to the element and not the structure. Haskell's answer to this problem is to use a Java-like interface (akin to an abstract base class in Python); in Haskell, an interface is called a typeclass. We declare the Maybe type to be an instance of the Functor typeclass.  \n",
    "\n",
    "```haskell\n",
    "class Functor f where\n",
    "  fmap :: (a -> b) -> f a -> f b\n",
    "```\n",
    "\n",
    "In Python, fmap is referred to as an abstract method, as it lacks an adjoining implementation. For the Maybe type to be an instance (implementing or subclassing) of the typeclass, as in Python or Java, we would have to give a meaning to fmap for the Maybe type. :\n",
    "\n",
    "```haskell\n",
    "instance Functor Maybe where\n",
    "  fmap f Nothing = Nothing\n",
    "  fmap f (Just a)  = Just (f a)\n",
    "```\n",
    "Again, Haskell, so just a bit of clarification. It says for the Maybe type, if fmap a function (f) on a Nothing value, we get a Nothing back. If we fmap function f on the (Just a) value, we get a Just value back, and we apply f on the wrapped value a. If you run the following in GHCI (the Haskell interpreter, also available online [Try Haskell](https://www.tryhaskell.org/) you will get the following.\n",
    "\n",
    "```haskell\n",
    "fmap (+1) (Just 41) = Just 42\n",
    "```\n",
    "\n",
    "A Haskell list implements the Functor typeclass. So I want to use fmap to map over a list I can. \n",
    "\n",
    "```haskell\n",
    "fmap (+1) [1..5] = [2,3,4,5,6]\n",
    "```\n",
    "\n",
    "For those curious the list implementation of the Functor type class is:\n",
    "\n",
    "```haskell\n",
    "instance Functor [] where\n",
    "  fmap f [] = []\n",
    "  fmap f (a:as) = f a : fmap f as\n",
    "```\n",
    "\n",
    "Haskell uses a lot of pattern matching (Python is starting to), but it basically says if I fmap f on an empty list, I get that list back; if I fmap f on a list represented as `(a:as),` then I apply the function to a and cons that on a recursive call to fmap. If you do not understand that sentence, do not worry; we are programming in Python, not Haskell.\n",
    "\n",
    "Let's see if we can implement this in Python:"
   ]
  },
  {
   "cell_type": "code",
   "execution_count": 61,
   "id": "515a21fd-7264-4766-a4a4-2b6df5d7f4e6",
   "metadata": {},
   "outputs": [],
   "source": [
    "from abc import ABC, abstractmethod\n",
    "\n",
    "\n",
    "class Maybe(ABC, Generic[T]):\n",
    "    '''I am ducktyping the functor, see the explanation below'''\n",
    "\n",
    "    @abstractmethod\n",
    "    def fmap(self):\n",
    "        ...\n",
    "\n",
    "class Just(Maybe[T]):\n",
    "\n",
    "    def __init__(self, value: T): \n",
    "        self.value = value\n",
    "\n",
    "    def fmap(self, func: Callable[[T], U]) -> Maybe[U]:\n",
    "        try:\n",
    "            new_value = func(self.value)\n",
    "            return Just(new_value)\n",
    "        except Exception as e:\n",
    "            print(e)\n",
    "            return Nothing()\n",
    "\n",
    "    def unwrap(self) -> U:\n",
    "        return self.value\n",
    "\n",
    "\n",
    "class Nothing(Maybe[T]): \n",
    "\n",
    "    def fmap(self, func: Callable[[T], U]) -> Maybe[U]: \n",
    "        return self"
   ]
  },
  {
   "cell_type": "code",
   "execution_count": 62,
   "id": "eb921187-ded6-4852-b5be-bc6dcacb702e",
   "metadata": {},
   "outputs": [
    {
     "data": {
      "text/plain": [
       "42"
      ]
     },
     "execution_count": 62,
     "metadata": {},
     "output_type": "execute_result"
    }
   ],
   "source": [
    "Just(41).fmap(partial(add, 1)).unwrap()"
   ]
  },
  {
   "cell_type": "code",
   "execution_count": 63,
   "id": "96101a48-a6a3-4a63-aea4-61a5d397132d",
   "metadata": {},
   "outputs": [
    {
     "data": {
      "text/plain": [
       "'42'"
      ]
     },
     "execution_count": 63,
     "metadata": {},
     "output_type": "execute_result"
    }
   ],
   "source": [
    "Just(42).fmap(str).unwrap()"
   ]
  },
  {
   "cell_type": "markdown",
   "id": "50bac676-67a3-4e68-8471-17a72060dab5",
   "metadata": {},
   "source": [
    "Now we have created a Maybe type that is a Functor; both the Just and Nothing classes subclass the Maybe. \n",
    "\n",
    "You might wonder why it is enough to implement only fmap for something to be a functor. This is due to the mathetical definition of a functor, which I now am going to give but feel free to skip. \n",
    "\n",
    "Let *C* and *D* be categories. A functor $F: A \\rightarrow B$ associates:\n",
    "\n",
    "- to every object $x \\in A$ an object $F x \\in B$\n",
    "- to every morphism $f: X \\rightarrow Y \\in A$ a morphism $ F(f): F(X) \\rightarrow F(Y) \\in B$ \n",
    "\n",
    "Such that the following conditions hold:\n",
    "\n",
    "1. $F(ID_x) = ID_F(x)$ for every object $x \\in A$ \n",
    "2. $F(g \\circ f) = F(g) \\circ F(f)$ for all morphisms $ f: X \\rightarrow Y$ and $g: Y \\rightarrow Z \\in B$\n",
    "\n",
    "Pictures speak more than words, so ![Functor](https://nikgrozev.com/images/blog/Functional%20Programming%20and%20Category%20Theory%20Part%201%20-%20Categories%20and%20Functors/functor.jpg)\n",
    "\n",
    "A and B are the categories; F is the functor. We only need to be able to map from A to B to be a functor; everything else we can derive from the fact that A and B are categories.\n",
    "\n",
    "But now, of course, you want a use case. For that, I will introduce another Functor we can use to propagate an error message through a pipeline, for instance in an API. "
   ]
  },
  {
   "cell_type": "code",
   "execution_count": 9,
   "id": "9acc1185-0236-4a36-9374-f494bd01d91c",
   "metadata": {},
   "outputs": [],
   "source": [
    "class Either(ABC, Generic[T]):\n",
    "\n",
    "    @abstractmethod\n",
    "    def fmap(self):\n",
    "        ...\n",
    "\n",
    "class Right(Either[T]): \n",
    "\n",
    "    def __init__(self, value: T): \n",
    "        self.value: T = value \n",
    "\n",
    "    def fmap(self, func: Callable[[T], U]) -> Either[U]:\n",
    "        try:\n",
    "            new_val = func(self.value)\n",
    "            return Right(new_val)\n",
    "        except Exception as e:\n",
    "            return Left(e.args[0]) \n",
    "\n",
    "    def unwrap(self) -> T:\n",
    "        return self.value\n",
    "\n",
    "class Left(Either[T]): \n",
    "\n",
    "    def __init__(self, exc: str): \n",
    "        self.exc:str = exc \n",
    "\n",
    "    def fmap(self, func: Callable[[T], U]) -> Either[str]:\n",
    "        return Left(self.exc)\n",
    "\n",
    "    def unwrap(self) -> str:\n",
    "        return self.exc\n"
   ]
  },
  {
   "cell_type": "markdown",
   "id": "8d908e99-c2db-48da-833c-24f9fed64f2b",
   "metadata": {},
   "source": [
    "Now we can propagate the error through our pipeline and not have it fail. Furthermore, at the end of our pipeline, we can unwrap our value for useful inspection. These types of continuation even after failure are very useful in, amongst other things, web APIs.   "
   ]
  },
  {
   "cell_type": "code",
   "execution_count": 10,
   "id": "d4773117-68ba-4263-bf09-8897fb73351f",
   "metadata": {},
   "outputs": [
    {
     "data": {
      "text/plain": [
       "'division by zero'"
      ]
     },
     "execution_count": 10,
     "metadata": {},
     "output_type": "execute_result"
    }
   ],
   "source": [
    "Right(42).fmap(int).fmap(lambda x : x / 0).fmap(str).fmap(int).unwrap()"
   ]
  },
  {
   "cell_type": "markdown",
   "id": "a4b86af3-ea94-46d6-9d70-e389f80ca017",
   "metadata": {},
   "source": [
    "To answer the last problem with the code why their Maybe class is not a monad is because for anything to be a Monad we need at least to implement the bind function. No bind function, no Monad. See below for an example of a bind function in Python. "
   ]
  },
  {
   "cell_type": "code",
   "execution_count": 74,
   "id": "90c9655b-c49b-4a22-9462-403efee4468e",
   "metadata": {},
   "outputs": [],
   "source": [
    "def bind(self, func: Callable[[T], Maybe[U]]) -> Maybe[U]:\n",
    "    try:\n",
    "        new_val = func(self.val)\n",
    "        return new_val\n",
    "    except Exception as e:\n",
    "        return Nothing()\n"
   ]
  }
 ],
 "metadata": {
  "kernelspec": {
   "display_name": "Python 3 (ipykernel)",
   "language": "python",
   "name": "python3"
  },
  "language_info": {
   "codemirror_mode": {
    "name": "ipython",
    "version": 3
   },
   "file_extension": ".py",
   "mimetype": "text/x-python",
   "name": "python",
   "nbconvert_exporter": "python",
   "pygments_lexer": "ipython3",
   "version": "3.10.12"
  }
 },
 "nbformat": 4,
 "nbformat_minor": 5
}
