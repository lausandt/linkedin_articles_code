{
 "cells": [
  {
   "cell_type": "markdown",
   "id": "e50a8ba5-89e6-40c5-b05d-5ba985461c72",
   "metadata": {},
   "source": [
    "Applicative Functors in Python\n",
    "---\n",
    "While we see implementations of the Functor and Monad in Python, we rarely see an implementation of the Applicative Functor in Python. I feel that the reason is to do with the examples usually given as motivations for the use of applicatives in text on functional programming. Take as an example [Functional Pearls](http://www.cs.umd.edu/class/spring2019/cmsc388F/lectures/applicative-functors.html) from the University of Maryland. They give as motivation an extended version of the motivation Graham Hutton uses in programming in Haskell, that of nondetermistic computation. The motivation adapted to Python (for the Haskell version see Functional Pearls) goes like this: \n",
    "\n",
    "Consider a list of numbers as nondeterministic. That is if `x = [1,2,3,4,5]` x could be one of those numbers. What if we want to write a function that takes a function, which takes two arguments, and two seperate list of arguments to get one list of arguments back. See the function signature of such a function."
   ]
  },
  {
   "cell_type": "code",
   "execution_count": 9,
   "id": "a34c382d-6eb0-4dcf-99da-531eebb66548",
   "metadata": {},
   "outputs": [],
   "source": [
    "from typing import Callable, TypeVar, Any  \n",
    "\n",
    "S = TypeVar('S')\n",
    "T = TypeVar('T')\n",
    "U = TypeVar('U')\n",
    "\n",
    "\n",
    "def lift2(func: Callable[[S],U], xs: list[S], ys: list[T]) -> list[U]:\n",
    "    ..."
   ]
  },
  {
   "cell_type": "markdown",
   "id": "9e2f5b5c-ab9e-4a97-ab91-1321960b8f25",
   "metadata": {},
   "source": [
    "We could this computation with an applicative list. Let's define one:"
   ]
  },
  {
   "cell_type": "code",
   "execution_count": 3,
   "id": "e36d2bbe-f784-46ae-8679-7ef180eed088",
   "metadata": {},
   "outputs": [],
   "source": [
    "from abc import ABC, abstractmethod\n",
    "\n",
    "class Functor(ABC):\n",
    "    @abstractmethod\n",
    "    def fmap(self, func):\n",
    "        pass\n",
    "\n",
    "class Applicative(Functor):\n",
    "    @abstractmethod\n",
    "    def apply(self, func_applicative):\n",
    "        pass\n",
    "    \n",
    "    @staticmethod\n",
    "    def pure(value):\n",
    "        pass\n",
    "\n",
    "# A concrete implementation of an Applicative for a List-like context\n",
    "class ListApplicative(Applicative):\n",
    "    def __init__(self, values):\n",
    "        self.values = values\n",
    "\n",
    "    def fmap(self, func):\n",
    "        return ListApplicative([func(x) for x in self.values])\n",
    "\n",
    "    def apply(self, func_applicative):\n",
    "        # func_applicative is expected to be another ListApplicative containing functions\n",
    "        return ListApplicative([f(x) for f in func_applicative.values for x in self.values])\n",
    "\n",
    "    @staticmethod\n",
    "    def pure(value):\n",
    "        return ListApplicative([value])\n",
    "\n",
    "    def __repr__(self):\n",
    "        return f'ListApplicative({self.values})'"
   ]
  },
  {
   "cell_type": "markdown",
   "id": "d5cd386b-df92-45de-83ce-ae2563f3ba30",
   "metadata": {},
   "source": [
    "An applicative is intermediary structure in between the functor and the monad. We can see that from \n",
    "our definition. An Appliactive subclasses the Functor. Furthermore any applicative structure must implement to functions. \n",
    "\n",
    "1. pure\n",
    "2. apply\n",
    "\n",
    "The ListApplicative thus creates at minimal three functions, fmap, pure, and apply. Now how can we do non deterministic computation with that?"
   ]
  },
  {
   "cell_type": "code",
   "execution_count": 6,
   "id": "dd53e98c-6025-4ba0-ad98-2510c2172022",
   "metadata": {},
   "outputs": [
    {
     "data": {
      "text/plain": [
       "ListApplicative([102, 103, 104, 105, 106, 103, 104, 105, 106, 107, 104, 105, 106, 107, 108, 105, 106, 107, 108, 109, 106, 107, 108, 109, 110])"
      ]
     },
     "execution_count": 6,
     "metadata": {},
     "output_type": "execute_result"
    }
   ],
   "source": [
    "import functools\n",
    "\n",
    "def curried_add(n: int) -> Callable[[U],T]:\n",
    "    def inner(m: int) -> int:\n",
    "        return n + m \n",
    "    return inner\n",
    "\n",
    "x = ListApplicative([1,2,3,4,5])\n",
    "y = ListApplicative([101,102,103,104,105])\n",
    "\n",
    "def lift2(func: Callable[[S],U], xs: list[S], ys: list[T]) -> list[U]:\n",
    "    partial_f = functools.partial(func)\n",
    "    return y.apply(x.apply(ListApplicative.pure(partial_f)))\n",
    "\n",
    "lift2(curried_add, x, y)"
   ]
  },
  {
   "cell_type": "markdown",
   "id": "2b9139c8-0bff-45b8-9294-62bb9ddf4015",
   "metadata": {},
   "source": [
    "Now if you do not find this very motivating I can understand that, neither do I. It seems to me that \n",
    "we can easily achieve this with a list comprehension, in both languages. "
   ]
  },
  {
   "cell_type": "code",
   "execution_count": 8,
   "id": "0a6210b8-f4a5-4597-bc65-cd6764da7ab4",
   "metadata": {},
   "outputs": [
    {
     "data": {
      "text/plain": [
       "[102,\n",
       " 103,\n",
       " 104,\n",
       " 105,\n",
       " 106,\n",
       " 103,\n",
       " 104,\n",
       " 105,\n",
       " 106,\n",
       " 107,\n",
       " 104,\n",
       " 105,\n",
       " 106,\n",
       " 107,\n",
       " 108,\n",
       " 105,\n",
       " 106,\n",
       " 107,\n",
       " 108,\n",
       " 109,\n",
       " 106,\n",
       " 107,\n",
       " 108,\n",
       " 109,\n",
       " 110]"
      ]
     },
     "execution_count": 8,
     "metadata": {},
     "output_type": "execute_result"
    }
   ],
   "source": [
    "from operator import add \n",
    "\n",
    "def liftPythonic(func: Callable[[S],U], xs: list[S], ys: list[T]) -> list[U]:\n",
    "    return [func(x,y) for x in xs for y in ys]\n",
    "\n",
    "liftPythonic(add, [1,2,3,4,5], [101,102,103,104,105])"
   ]
  },
  {
   "cell_type": "markdown",
   "id": "ad0dc944-7486-49cb-bc7b-a45e3a409c2c",
   "metadata": {},
   "source": [
    "If we want to an operation a iterable, a generator or comprehension would be preferable. \n",
    "I just point out that apply uses a list comprehension in its body. Applying it to two list is just composition. Which raises the question what could function as a motivation for programming applicative structures. \n",
    "\n",
    "#### Motivating the Applicative\n",
    "---\n",
    "The main motivation for using an applicative is threefold:\n",
    "\n",
    "1. You are working with multiple functor structures like; list, options, futures, etc.\n",
    "2. You want to abstract over side effects or contexts in a reusable way.\n",
    "3. You need to handle validation, optional values, parallel computations, or other effects.\n",
    "\n",
    "In this artikel will give an example of all three. \n",
    "\n",
    "#### Applicative Functors Generalize Beyond Lists\n",
    "\n",
    "While list comprehensions are great for simple lists, Applicative functors provide a general interface that works with any context, not just lists. This could include:\n",
    "\n",
    "- Optional values (Maybe or Option in other languages): Handling computations that might fail.\n",
    "- Concurrent computations (Future, Async): Handling computations that may not return a result immediately.\n",
    "- Validation: Combining multiple validation checks that could fail independently.\n",
    "- Monads like Either, Result, etc.\n",
    "\n",
    "Consider the situation where you have optional values and you only want to a function to be computed if we have values for both options. With an applicative we could lift the function to the Optional context and apply the function to both values. "
   ]
  },
  {
   "cell_type": "code",
   "execution_count": 29,
   "id": "466045d2-4daa-4e16-b851-de59728fbb59",
   "metadata": {},
   "outputs": [],
   "source": [
    "from typing import Callable, Generic, TypeVar, Optional\n",
    "\n",
    "# Define type variables\n",
    "S = TypeVar('S')  # Input type\n",
    "T = TypeVar('T')  # Output type\n",
    "\n",
    "class OptionApplicative(Generic[S]):\n",
    "    def __init__(self, value: Optional[S]):\n",
    "        self.value = value\n",
    "\n",
    "    # fmap method with type annotations\n",
    "    def fmap(self, func: Callable[[S], T]) -> 'OptionApplicative[T]':\n",
    "        if self.value is None:\n",
    "            return OptionApplicative(None)\n",
    "        return OptionApplicative(func(self.value))\n",
    "\n",
    "    # apply method with type annotations\n",
    "    def apply(self, func_applicative: 'OptionApplicative[Callable[[S], T]]') -> 'OptionApplicative[T]':\n",
    "        if self.value is None or func_applicative.value is None:\n",
    "            return OptionApplicative(None)\n",
    "        return OptionApplicative(func_applicative.value(self.value))\n",
    "\n",
    "    @staticmethod\n",
    "    def pure(value: S) -> 'OptionApplicative[S]':\n",
    "        return OptionApplicative(value)\n",
    "\n",
    "    def __repr__(self) -> str:\n",
    "        return f'OptionApplicative({self.value})'"
   ]
  },
  {
   "cell_type": "code",
   "execution_count": 30,
   "id": "b216be65-8c16-4cad-b230-83b5d5a80433",
   "metadata": {},
   "outputs": [
    {
     "name": "stdout",
     "output_type": "stream",
     "text": [
      "None\n"
     ]
    }
   ],
   "source": [
    "def lift2(func, op1: OptionApplicative[S], op2: OptionApplicative[S]) -> OptionApplicative[T]: \n",
    "    '''needs a curried function'''\n",
    "    pfunc = functools.partial(func)\n",
    "    op2.apply(op1.apply(OptionApplicative.pure(pfunc)))\n",
    "\n",
    "op1 = OptionApplicative(19)\n",
    "op2 = OptionApplicative(23)\n",
    "print(lift2(curried_add, op1, op2))"
   ]
  },
  {
   "cell_type": "code",
   "execution_count": 35,
   "id": "2097dba1-a1bc-4687-bf0f-81757c08593f",
   "metadata": {},
   "outputs": [
    {
     "data": {
      "text/plain": [
       "OptionApplicative(20)"
      ]
     },
     "execution_count": 35,
     "metadata": {},
     "output_type": "execute_result"
    }
   ],
   "source": [
    "def succ(n: int) -> int:\n",
    "    return n + 1 \n",
    "\n",
    "op1.apply(OptionApplicative.pure(succ))"
   ]
  },
  {
   "cell_type": "code",
   "execution_count": null,
   "id": "1fd1bbc8-e29d-45df-8caf-6eb38278069c",
   "metadata": {},
   "outputs": [],
   "source": []
  }
 ],
 "metadata": {
  "kernelspec": {
   "display_name": "Python 3 (ipykernel)",
   "language": "python",
   "name": "python3"
  },
  "language_info": {
   "codemirror_mode": {
    "name": "ipython",
    "version": 3
   },
   "file_extension": ".py",
   "mimetype": "text/x-python",
   "name": "python",
   "nbconvert_exporter": "python",
   "pygments_lexer": "ipython3",
   "version": "3.10.12"
  }
 },
 "nbformat": 4,
 "nbformat_minor": 5
}
